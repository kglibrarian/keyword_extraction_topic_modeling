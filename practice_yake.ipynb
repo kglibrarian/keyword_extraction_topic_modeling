{
 "cells": [
  {
   "cell_type": "markdown",
   "metadata": {},
   "source": [
    "## Practice with Yake! Keyword Extraction"
   ]
  },
  {
   "cell_type": "markdown",
   "metadata": {},
   "source": [
    "YAKE! is a light-weight unsupervised automatic keyword extraction method which rests on statistical text features extracted from single documents to select the most relevant keywords of a text. Yake! does not need to be trained on a particular set of documents, nor does it depend on dictionaries, external corpora, text size, language, or domain. \n",
    "\n",
    "YAKE! features to note: \n",
    "\n",
    "* Corpus-Independent: we offer a solution which can retrieve keywords from a single document only, without the need to rely on external document collection statistics as IDF does; i.e., it can be applied to any text.\n",
    "\n",
    "* Domain and Language-Independent: YAKE! works with domains and languages for which there are no ready keyword extraction systems, as it neither requires a training corpus nor depends on sophisticated external sources (such as WordNet or Wikipedia) or linguistic tools (such as NER or PoS taggers) other than a static list of stopwords.\n",
    "\n",
    "* Interior Stopwords: YAKE! can retrieve keywords containing interior stopwords (e.g., “game of Thrones”) with higher precision than the state-of-the-art methods.\n",
    "\n",
    "* Scale: YAKE! scales to any document length linearly in the number of candidate terms identified.\n",
    "\n",
    "* Term Frequency-free: meaning that no conditions are set with respect to the minimum frequency or sentence frequency that a candidate keyword must have. Therefore, based on the features used, a keyword may be considered significant or insignificant with either one occurrence or with multiple occurrences.\n",
    "\n",
    "YAKE! References:\n",
    "\n",
    "* Yake! on Github: <https://github.com/LIAAD/yake/blob/master/tests/test_yake.py>\n",
    "* Yake! publication: <https://www.sciencedirect.com/science/article/pii/S0020025519308588>"
   ]
  },
  {
   "cell_type": "code",
   "execution_count": 1,
   "metadata": {},
   "outputs": [],
   "source": [
    "# import pytest\n",
    "# from click.testing import CliRunner\n",
    "import sys, os\n",
    "import yake\n",
    "import pandas as pd\n",
    "from tika import parser # pip install tika\n",
    "# from sklearn.feature_extraction.text import CountVectorizer\n",
    "# from nltk.stem import WordNetLemmatizer\n",
    "import re\n",
    "import glob\n",
    "import numpy as np\n",
    "# import matplotlib.pyplot as plt\n",
    "# from gensim import corpora\n",
    "# from gensim.models import LdaModel\n",
    "# from operator import itemgetter\n",
    "# from nltk.corpus import stopwords\n",
    "# from sklearn.feature_extraction.stop_words import ENGLISH_STOP_WORDS\n",
    "# from nltk.tokenize import RegexpTokenizer\n",
    "import nltk as nltk\n",
    "from nltk.stem import WordNetLemmatizer \n",
    "from nltk.stem.porter import PorterStemmer\n",
    "from nltk.stem.snowball import SnowballStemmer\n",
    "# from gensim import models\n",
    "# from gensim.models.coherencemodel import CoherenceModel\n",
    "# import pprint"
   ]
  },
  {
   "cell_type": "code",
   "execution_count": null,
   "metadata": {},
   "outputs": [],
   "source": [
    "# myPath = os.path.dirname(os.path.abspath(__file__))\n",
    "# sys.path.insert(0, myPath + '/../')\n",
    "# print(myPath)"
   ]
  },
  {
   "cell_type": "markdown",
   "metadata": {},
   "source": [
    "## Test YAKE! \n",
    "This option uses text from YAKE tutorials in github"
   ]
  },
  {
   "cell_type": "code",
   "execution_count": 2,
   "metadata": {},
   "outputs": [
    {
     "name": "stdout",
     "output_type": "stream",
     "text": [
      "[('google', 0.028765839071555145), ('kaggle', 0.03029100296589699), ('ceo anthony goldbloom', 0.044150048118141993), ('san francisco', 0.0493381006368295), ('google cloud platform', 0.08012242836843439), ('anthony goldbloom declined', 0.09352364829135683), ('acquiring kaggle', 0.0937656088189103), ('data', 0.10408873090971225), ('machine learning', 0.1090939755554506), ('ceo anthony', 0.11550533748649253), ('francisco this week', 0.11755109974354985), ('anthony goldbloom', 0.11931712638338728), ('google cloud', 0.12029557374392373), ('platform', 0.12492146981387872), ('conference in san', 0.12635575121359094), ('service', 0.13222511590756092), ('machine learning competitions', 0.1402624893081957), ('goldbloom', 0.16111524873107363), ('learning', 0.16297880163468698), ('machine', 0.16810677351921977)]\n",
      "['google', 'kaggle', 'ceo anthony goldbloom', 'san francisco', 'google cloud platform', 'anthony goldbloom declined', 'acquiring kaggle', 'data', 'machine learning', 'ceo anthony', 'francisco this week', 'anthony goldbloom', 'google cloud', 'platform', 'conference in san', 'service', 'machine learning competitions', 'goldbloom', 'learning', 'machine']\n"
     ]
    }
   ],
   "source": [
    "def test_simple_interface():\n",
    "    text_content = \"\"\"\n",
    "    Sources tell us that Google is acquiring Kaggle, a platform that\n",
    "    hosts data science and machine learning competitions. Details about\n",
    "    the transaction remain somewhat vague , but given that Google is hosting\n",
    "    its Cloud Next conference in San Francisco this week, the official announcement\n",
    "    could come as early    as tomorrow.  Reached by phone, Kaggle co-founder\n",
    "    CEO Anthony Goldbloom declined to deny that the\n",
    "    acquisition is happening. Google itself declined 'to comment on rumors'.\n",
    "    Kaggle, which has about half a million data scientists on its platform,\n",
    "    was founded by Goldbloom    and Ben Hamner in 2010. The service got an\n",
    "    early start and even though it has a few competitors    like DrivenData,\n",
    "    TopCoder and HackerRank, it has managed to stay well ahead of them by focusing on its\n",
    "    specific niche. The service is basically the de facto home for running data science\n",
    "    and machine learning    competitions.  With Kaggle, Google is buying one of the largest\n",
    "    and most active communities for    data scientists - and with that, it will get increased\n",
    "    mindshare in this community, too    (though it already has plenty of that thanks to Tensorflow\n",
    "    and other projects).    Kaggle has a bit of a history with Google, too, but that's pretty recent.\n",
    "    Earlier this month,    Google and Kaggle teamed up to host a $100,000 machine learning competition\n",
    "    around classifying    YouTube videos. That competition had some deep integrations with the\n",
    "    Google Cloud Platform, too.    Our understanding is that Google will keep the service running -\n",
    "    likely under its current name.    While the acquisition is probably more about Kaggle's community\n",
    "    than technology, Kaggle did build    some interesting tools for hosting its competition and 'kernels',\n",
    "    too. On Kaggle, kernels are    basically the source code for analyzing data sets and developers can\n",
    "    share this code on the    platform (the company previously called them 'scripts').  Like similar\n",
    "    competition-centric sites,    Kaggle also runs a job board, too. It's unclear what Google will do\n",
    "    with that part of the service.    According to Crunchbase, Kaggle raised $12.5 million (though PitchBook\n",
    "    says it's $12.75) since its    launch in 2010. Investors in Kaggle include Index Ventures, SV Angel,\n",
    "    Max Levchin, Naval Ravikant,    Google chief economist Hal Varian, Khosla Ventures and Yuri Milner\n",
    "    \"\"\"\n",
    "\n",
    "    pyake = yake.KeywordExtractor(lan=\"en\",n=3)\n",
    "\n",
    "    result = pyake.extract_keywords(text_content)\n",
    "\n",
    "    print(result)\n",
    "\n",
    "    keywords = [kw[0] for kw in result]\n",
    "\n",
    "    print(keywords)\n",
    "    assert \"google\" in keywords\n",
    "    assert \"kaggle\" in keywords\n",
    "    assert \"san francisco\" in keywords\n",
    "    assert \"machine learning\" in keywords\n",
    "\n",
    "test_simple_interface()"
   ]
  },
  {
   "cell_type": "code",
   "execution_count": 3,
   "metadata": {},
   "outputs": [
    {
     "name": "stdout",
     "output_type": "stream",
     "text": [
      "[('machine learning competitions', 0.003589619935348917), ('hosts data science', 0.006016990893252952), ('data science and', 0.006016990893252952), ('science and machine', 0.006016990893252952), ('and machine learning', 0.006016990893252952), ('platform that hosts', 0.008810923702418545), ('that hosts data', 0.008810923702418545), ('acquiring kaggle', 0.010913447134086757), ('google is acquiring', 0.01636643116542659), ('sources tell', 0.019410041520969947), ('learning competitions', 0.019410041520969947), ('that google', 0.023554930795651057), ('hosts data', 0.03223943683265993), ('data science', 0.03223943683265993), ('science and', 0.03223943683265993), ('and machine', 0.03223943683265993), ('machine learning', 0.03223943683265993), ('platform that', 0.0467201903043851), ('that hosts', 0.0467201903043851), ('kaggle', 0.061086392133208656)]\n"
     ]
    }
   ],
   "source": [
    "def test_simple_interface():\n",
    "    text_content = \"\"\"\n",
    "    Sources tell us that Google is acquiring Kaggle, a platform that\n",
    "    hosts data science and machine learning competitions.\"\"\"\n",
    "\n",
    "    pyake = yake.KeywordExtractor(lan=\"ca\",n=3)\n",
    "\n",
    "    result = pyake.extract_keywords(text_content)\n",
    "\n",
    "    print(result)\n",
    "\n",
    "    assert len(result) > 0\n",
    "\n",
    "test_simple_interface()"
   ]
  },
  {
   "cell_type": "code",
   "execution_count": 5,
   "metadata": {},
   "outputs": [
    {
     "name": "stdout",
     "output_type": "stream",
     "text": [
      "('google', 0.026580863364597897)\n",
      "('kaggle', 0.0289005976239829)\n",
      "('ceo anthony goldbloom', 0.029946071606210194)\n",
      "('san francisco', 0.048810837074825336)\n",
      "('anthony goldbloom declined', 0.06176910090701819)\n",
      "('google cloud platform', 0.06261974476422487)\n",
      "('co-founder ceo anthony', 0.07357749587020043)\n",
      "('acquiring kaggle', 0.08723571551039863)\n",
      "('ceo anthony', 0.08915156857226395)\n",
      "('anthony goldbloom', 0.09123482372372106)\n",
      "('machine learning', 0.09147989238151344)\n",
      "('kaggle co-founder ceo', 0.093805063905847)\n",
      "('data', 0.097574333771058)\n",
      "('google cloud', 0.10260128641464673)\n",
      "('machine learning competitions', 0.10773000650607861)\n",
      "('francisco this week', 0.11519915079240485)\n",
      "('platform', 0.1183512305596321)\n",
      "('conference in san', 0.12392066376108138)\n",
      "('service', 0.12546743261462942)\n",
      "('goldbloom', 0.14611408778815776)\n"
     ]
    }
   ],
   "source": [
    "def test_again():\n",
    "    text = \"Sources tell us that Google is acquiring Kaggle, a platform that hosts data science and machine learning \"\\\n",
    "    \"competitions. Details about the transaction remain somewhat vague, but given that Google is hosting its Cloud \"\\\n",
    "    \"Next conference in San Francisco this week, the official announcement could come as early as tomorrow. \"\\\n",
    "    \"Reached by phone, Kaggle co-founder CEO Anthony Goldbloom declined to deny that the acquisition is happening. \"\\\n",
    "    \"Google itself declined 'to comment on rumors'. Kaggle, which has about half a million data scientists on its platform, \"\\\n",
    "    \"was founded by Goldbloom  and Ben Hamner in 2010. \"\\\n",
    "    \"The service got an early start and even though it has a few competitors like DrivenData, TopCoder and HackerRank, \"\\\n",
    "    \"it has managed to stay well ahead of them by focusing on its specific niche. \"\\\n",
    "    \"The service is basically the de facto home for running data science and machine learning competitions. \"\\\n",
    "    \"With Kaggle, Google is buying one of the largest and most active communities for data scientists - and with that, \"\\\n",
    "    \"it will get increased mindshare in this community, too (though it already has plenty of that thanks to Tensorflow \"\\\n",
    "    \"and other projects). Kaggle has a bit of a history with Google, too, but that's pretty recent. Earlier this month, \"\\\n",
    "    \"Google and Kaggle teamed up to host a $100,000 machine learning competition around classifying YouTube videos. \"\\\n",
    "    \"That competition had some deep integrations with the Google Cloud Platform, too. Our understanding is that Google \"\\\n",
    "    \"will keep the service running - likely under its current name. While the acquisition is probably more about \"\\\n",
    "    \"Kaggle's community than technology, Kaggle did build some interesting tools for hosting its competition \"\\\n",
    "    \"and 'kernels', too. On Kaggle, kernels are basically the source code for analyzing data sets and developers can \"\\\n",
    "    \"share this code on the platform (the company previously called them 'scripts'). \"\\\n",
    "    \"Like similar competition-centric sites, Kaggle also runs a job board, too. It's unclear what Google will do with \"\\\n",
    "    \"that part of the service. According to Crunchbase, Kaggle raised $12.5 million (though PitchBook says it's $12.75) \"\\\n",
    "    \"since its   launch in 2010. Investors in Kaggle include Index Ventures, SV Angel, Max Levchin, Naval Ravikant, \"\\\n",
    "    \"Google chief economist Hal Varian, Khosla Ventures and Yuri Milner \"\n",
    "    \n",
    "    kw_extractor = yake.KeywordExtractor()\n",
    "    keywords = kw_extractor.extract_keywords(text)\n",
    "\n",
    "    for kw in keywords:\n",
    "        print(kw)\n",
    "\n",
    "test_again()"
   ]
  },
  {
   "cell_type": "code",
   "execution_count": 4,
   "metadata": {},
   "outputs": [
    {
     "name": "stdout",
     "output_type": "stream",
     "text": [
      "<class 'str'>\n",
      "('google', 0.026580863364597897)\n",
      "('kaggle', 0.0289005976239829)\n",
      "('ceo anthony goldbloom', 0.029946071606210194)\n",
      "('san francisco', 0.048810837074825336)\n",
      "('anthony goldbloom declined', 0.06176910090701819)\n",
      "('google cloud platform', 0.06261974476422487)\n",
      "('co-founder ceo anthony', 0.07357749587020043)\n",
      "('acquiring kaggle', 0.08723571551039863)\n",
      "('ceo anthony', 0.08915156857226395)\n",
      "('anthony goldbloom', 0.09123482372372106)\n",
      "('machine learning', 0.09147989238151344)\n",
      "('kaggle co-founder ceo', 0.093805063905847)\n",
      "('data', 0.097574333771058)\n",
      "('google cloud', 0.10260128641464673)\n",
      "('machine learning competitions', 0.10773000650607861)\n",
      "('francisco this week', 0.11519915079240485)\n",
      "('platform', 0.1183512305596321)\n",
      "('conference in san', 0.12392066376108138)\n",
      "('service', 0.12546743261462942)\n",
      "('goldbloom', 0.14611408778815776)\n"
     ]
    }
   ],
   "source": [
    "def test_again():\n",
    "    \n",
    "    text = \"Sources tell us that Google is acquiring Kaggle, a platform that hosts data science and machine learning \"\\\n",
    "    \"competitions. Details about the transaction remain somewhat vague, but given that Google is hosting its Cloud \"\\\n",
    "    \"Next conference in San Francisco this week, the official announcement could come as early as tomorrow. \"\\\n",
    "    \"Reached by phone, Kaggle co-founder CEO Anthony Goldbloom declined to deny that the acquisition is happening. \"\\\n",
    "    \"Google itself declined 'to comment on rumors'. Kaggle, which has about half a million data scientists on its platform, \"\\\n",
    "    \"was founded by Goldbloom  and Ben Hamner in 2010. \"\\\n",
    "    \"The service got an early start and even though it has a few competitors like DrivenData, TopCoder and HackerRank, \"\\\n",
    "    \"it has managed to stay well ahead of them by focusing on its specific niche. \"\\\n",
    "    \"The service is basically the de facto home for running data science and machine learning competitions. \"\\\n",
    "    \"With Kaggle, Google is buying one of the largest and most active communities for data scientists - and with that, \"\\\n",
    "    \"it will get increased mindshare in this community, too (though it already has plenty of that thanks to Tensorflow \"\\\n",
    "    \"and other projects). Kaggle has a bit of a history with Google, too, but that's pretty recent. Earlier this month, \"\\\n",
    "    \"Google and Kaggle teamed up to host a $100,000 machine learning competition around classifying YouTube videos. \"\\\n",
    "    \"That competition had some deep integrations with the Google Cloud Platform, too. Our understanding is that Google \"\\\n",
    "    \"will keep the service running - likely under its current name. While the acquisition is probably more about \"\\\n",
    "    \"Kaggle's community than technology, Kaggle did build some interesting tools for hosting its competition \"\\\n",
    "    \"and 'kernels', too. On Kaggle, kernels are basically the source code for analyzing data sets and developers can \"\\\n",
    "    \"share this code on the platform (the company previously called them 'scripts'). \"\\\n",
    "    \"Like similar competition-centric sites, Kaggle also runs a job board, too. It's unclear what Google will do with \"\\\n",
    "    \"that part of the service. According to Crunchbase, Kaggle raised $12.5 million (though PitchBook says it's $12.75) \"\\\n",
    "    \"since its   launch in 2010. Investors in Kaggle include Index Ventures, SV Angel, Max Levchin, Naval Ravikant, \"\\\n",
    "    \"Google chief economist Hal Varian, Khosla Ventures and Yuri Milner \"\n",
    "    \n",
    "    print(type(text))\n",
    "    language = \"en\"\n",
    "    max_ngram_size = 3\n",
    "    deduplication_thresold = 0.9\n",
    "    deduplication_algo = 'seqm'\n",
    "    windowSize = 1\n",
    "    numOfKeywords = 20\n",
    "\n",
    "    custom_kw_extractor = yake.KeywordExtractor(lan=language, n=max_ngram_size, dedupLim=deduplication_thresold, dedupFunc=deduplication_algo, windowsSize=windowSize, top=numOfKeywords, features=None)\n",
    "    keywords = custom_kw_extractor.extract_keywords(text)\n",
    "\n",
    "    for kw in keywords:\n",
    "        print(kw)\n",
    "\n",
    "test_again()"
   ]
  },
  {
   "cell_type": "markdown",
   "metadata": {},
   "source": [
    "## Load my dataset\n",
    "This code loads pdfs, converts them to text files, and then creates a pandas dataframe"
   ]
  },
  {
   "cell_type": "code",
   "execution_count": 6,
   "metadata": {},
   "outputs": [
    {
     "name": "stdout",
     "output_type": "stream",
     "text": [
      "['practice_pdfs\\\\0066-782X-abc-113-04-0787.pdf', 'practice_pdfs\\\\aspr-cvdprev-draftes131.pdf', 'practice_pdfs\\\\CIR.0000000000000749.pdf', 'practice_pdfs\\\\cvd-nontraditional-risk-factors-final-evidence-review.pdf', 'practice_pdfs\\\\lipidscreening_chmd-review.pdf', 'practice_pdfs\\\\S135.full.pdf']\n"
     ]
    }
   ],
   "source": [
    "directory = \"practice_pdfs\"\n",
    "files = list(glob.glob(os.path.join(directory,'*.*')))\n",
    "print(files)\n",
    "#https://stackoverflow.com/questions/34000914/how-to-create-a-list-from-filenames-in-a-user-specified-directory-in-python\n",
    "#https://stackoverflow.com/questions/3207219/how-do-i-list-all-files-of-a-directory\n",
    "#https://stackoverflow.com/questions/33912773/python-read-txt-files-into-a-dataframe"
   ]
  },
  {
   "cell_type": "code",
   "execution_count": 7,
   "metadata": {},
   "outputs": [],
   "source": [
    "#https://stackoverflow.com/questions/34837707/how-to-extract-text-from-a-pdf-file\n",
    "\n",
    "document_list = []\n",
    "for f in files:\n",
    "    raw = parser.from_file(f)\n",
    "    document_list.append(raw)\n",
    "\n",
    "# print(document_list)\n",
    "\n",
    "\n",
    "# raw = parser.from_file('CIR.0000000000000749.pdf')\n",
    "# # print(raw['content'])\n",
    "# # print(type(raw))\n",
    "# print(raw.keys())\n",
    "# metadata = raw[\"metadata\"]\n",
    "# content = raw[\"content\"]\n",
    "# # print(metadata)\n",
    "# # print(content)\n",
    "# print(type(content))\n"
   ]
  },
  {
   "cell_type": "code",
   "execution_count": 8,
   "metadata": {},
   "outputs": [],
   "source": [
    "text_df = pd.DataFrame(document_list)\n",
    "# text_df.head()\n",
    "# print(text_df[\"content\"][1])"
   ]
  },
  {
   "cell_type": "markdown",
   "metadata": {},
   "source": [
    "## Test YAKE! on my dataset\n",
    "This option uses the internal YAKE! preprocessing and stopwords"
   ]
  },
  {
   "cell_type": "code",
   "execution_count": null,
   "metadata": {},
   "outputs": [],
   "source": [
    "#Change dataframe content column i\n",
    "text_original=''\n",
    "def prepare_text(text):\n",
    "    \n",
    "    for doc in text.dropna():\n",
    "        for w in doc.split():\n",
    "            text_original=text_original+' '+ str(w)\n",
    "        \n",
    "prepare_text(text_df['content']) "
   ]
  },
  {
   "cell_type": "code",
   "execution_count": null,
   "metadata": {},
   "outputs": [],
   "source": [
    "def test_yake(text):\n",
    "    \n",
    "    \n",
    "    print(type(text))\n",
    "    language = \"en\"\n",
    "    max_ngram_size = 3\n",
    "    deduplication_thresold = 0.9\n",
    "    deduplication_algo = 'seqm'\n",
    "    windowSize = 1\n",
    "    numOfKeywords = 20\n",
    "\n",
    "    custom_kw_extractor = yake.KeywordExtractor(lan=language, n=max_ngram_size, dedupLim=deduplication_thresold, dedupFunc=deduplication_algo, windowsSize=windowSize, top=numOfKeywords, features=None)\n",
    "    keywords = custom_kw_extractor.extract_keywords(text)\n",
    "\n",
    "    for kw in keywords:\n",
    "        print(kw)\n",
    "\n",
    "test_yake(text_original)\n",
    "\n",
    "#The lower the score, the more relevant the keyword is.\n",
    "#he smaller the value, the more significant the 1-gram term (t) is."
   ]
  },
  {
   "cell_type": "markdown",
   "metadata": {},
   "source": [
    "## Test YAKE! on my dataset\n",
    "\n",
    "This option uses external pre-processing and stopwords"
   ]
  },
  {
   "cell_type": "code",
   "execution_count": null,
   "metadata": {},
   "outputs": [],
   "source": [
    "#https://kavita-ganesan.com/extracting-keywords-from-text-tfidf/#.X7RHltBKiUn\n",
    "\n",
    "def pre_process(text):\n",
    "    \n",
    "    # lowercase\n",
    "    text=text.lower()\n",
    "    \n",
    "    #remove tags\n",
    "    text=re.sub(\"\",\"\",text)\n",
    "    \n",
    "    # remove special characters and digits\n",
    "    text=re.sub(\"(\\\\d|\\\\W)+\",\" \",text)\n",
    "    \n",
    "       \n",
    "    return text\n",
    "\n",
    "\n",
    "text_df['content'] = text_df['content'].apply(lambda x:pre_process(x))\n",
    "\n",
    "#show the second 'text' just for fun\n",
    "text_df['content'][1]\n"
   ]
  },
  {
   "cell_type": "code",
   "execution_count": null,
   "metadata": {},
   "outputs": [],
   "source": [
    "def get_stop_words(stop_file_path):\n",
    "#     \"\"\"load stop words \"\"\"\n",
    "    \n",
    "    with open(stop_file_path, 'r', encoding=\"utf-8\") as f:\n",
    "        stopwords = f.readlines()\n",
    "        stop_set = set(m.strip() for m in stopwords)\n",
    "        return frozenset(stop_set)\n",
    "\n",
    "#load a set of stop words\n",
    "stopwords=get_stop_words(\"stop_words.txt\")"
   ]
  },
  {
   "cell_type": "code",
   "execution_count": null,
   "metadata": {},
   "outputs": [],
   "source": [
    "# Tokenize and lemmatize abstracts\n",
    "lemmatizer = WordNetLemmatizer()\n",
    "text=''\n",
    "for doc in text_df['content'].dropna():\n",
    "    for w in doc.split():\n",
    "        if w not in stopwords:\n",
    "            text=text+' '+ str(lemmatizer.lemmatize(w))"
   ]
  },
  {
   "cell_type": "code",
   "execution_count": null,
   "metadata": {},
   "outputs": [],
   "source": [
    "# https://github.com/LIAAD/yake/blob/master/tests/test_yake.py\n",
    "# https://www.sciencedirect.com/science/article/pii/S0020025519308588?via%3Dihub\n",
    "\n",
    "#get the text column \n",
    "# yake_data = text_df['content'].tolist()\n",
    "# print(yake_data)\n",
    "\n",
    "def test_yake(text):\n",
    "    \n",
    "    \n",
    "    print(type(text))\n",
    "    language = \"en\"\n",
    "    max_ngram_size = 3\n",
    "    deduplication_thresold = 0.9\n",
    "    deduplication_algo = 'seqm'\n",
    "    windowSize = 1\n",
    "    numOfKeywords = 20\n",
    "\n",
    "    custom_kw_extractor = yake.KeywordExtractor(lan=language, n=max_ngram_size, dedupLim=deduplication_thresold, dedupFunc=deduplication_algo, windowsSize=windowSize, top=numOfKeywords, features=None)\n",
    "    keywords = custom_kw_extractor.extract_keywords(text)\n",
    "\n",
    "    for kw in keywords:\n",
    "        print(kw)\n",
    "\n",
    "test_yake(text)"
   ]
  }
 ],
 "metadata": {
  "kernelspec": {
   "display_name": "Python 3",
   "language": "python",
   "name": "python3"
  },
  "language_info": {
   "codemirror_mode": {
    "name": "ipython",
    "version": 3
   },
   "file_extension": ".py",
   "mimetype": "text/x-python",
   "name": "python",
   "nbconvert_exporter": "python",
   "pygments_lexer": "ipython3",
   "version": "3.7.0"
  }
 },
 "nbformat": 4,
 "nbformat_minor": 4
}
